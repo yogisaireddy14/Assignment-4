{
  "nbformat": 4,
  "nbformat_minor": 0,
  "metadata": {
    "colab": {
      "provenance": [],
      "authorship_tag": "ABX9TyPcs1ULuCI0cmiLT60fztDx"
    },
    "kernelspec": {
      "name": "python3",
      "display_name": "Python 3"
    },
    "language_info": {
      "name": "python"
    }
  },
  "cells": [
    {
      "cell_type": "code",
      "execution_count": 1,
      "metadata": {
        "id": "gW-hblZkeZeI"
      },
      "outputs": [],
      "source": [
        "import re\n",
        "import csv\n",
        "from collections import Counter, defaultdict"
      ]
    },
    {
      "cell_type": "code",
      "source": [
        "logfile = 'sample.log'\n",
        "csv_output_file = 'log_analysis_results.csv'\n",
        "failed_login_thresold = 10"
      ],
      "metadata": {
        "id": "KeKOhV7XgHMw"
      },
      "execution_count": 65,
      "outputs": []
    },
    {
      "cell_type": "code",
      "source": [
        "ip_reg = r'(\\d+\\.\\d+\\.\\d+\\.\\d+)'\n",
        "endpoint_reg = r'\"(?:GET|POST|PUT|DELETE|PATCH) (\\/\\S+)'\n",
        "status_code= r'HTTP\\/\\d\\.\\d\" (\\d+)'\n",
        "failed_login = '401'"
      ],
      "metadata": {
        "id": "MeeWkYh8hxru"
      },
      "execution_count": 66,
      "outputs": []
    },
    {
      "cell_type": "code",
      "source": [
        "ip_request_count = Counter()\n",
        "endpoint_access_count = Counter()\n",
        "failed_logins = defaultdict(int)"
      ],
      "metadata": {
        "id": "6BZquRvVh_Jm"
      },
      "execution_count": 67,
      "outputs": []
    },
    {
      "cell_type": "code",
      "source": [
        "with open(logfile, 'r') as file:\n",
        "    for line in file:\n",
        "        ip_match = re.search(ip_reg, line)\n",
        "        if ip_match:\n",
        "            ip = ip_match.group(1)\n",
        "            ip_request_count[ip] += 1\n",
        "\n",
        "        endpoint_match = re.search(endpoint_reg, line)\n",
        "        if endpoint_match:\n",
        "            endpoint = endpoint_match.group(1)\n",
        "            endpoint_access_count[endpoint] += 1\n",
        "\n",
        "        status_code_match = re.search(status_code, line)\n",
        "        if status_code_match and status_code_match.group(1) == failed_login:\n",
        "            if ip_match:\n",
        "                failed_logins[ip] += 1\n",
        "sorted_ip_requests = ip_request_count.most_common()\n",
        "most_accessed_endpoint = max(endpoint_access_count.items(), key=lambda x: x[1])\n",
        "suspicious_ips = [(ip, count) for ip, count in failed_logins.items() if count > failed_login_thresold]\n",
        "print(\"IP Address          Request Count\")\n",
        "for ip, count in sorted_ip_requests:\n",
        "    print(f\"{ip:<20}{count}\")\n",
        "\n",
        "print(\"\\nMost Frequently Accessed Endpoint:\")\n",
        "print(f\"{most_accessed_endpoint[0]} (Accessed {most_accessed_endpoint[1]} times)\")\n",
        "if suspicious_ips:\n",
        "    print(\"\\nSuspicious Activity Detected:\")\n",
        "    print(\"IP Address          Failed Login Attempts\")\n",
        "    for ip, count in suspicious_ips:\n",
        "        print(f\"{ip:<20}{count}\")\n",
        "else:\n",
        "    print(\"\\nNo suspicious activity detected.\")\n"
      ],
      "metadata": {
        "colab": {
          "base_uri": "https://localhost:8080/"
        },
        "id": "aA2Xn-QMiHj1",
        "outputId": "41e17631-501f-41d2-a2f0-8717074a7a62"
      },
      "execution_count": 68,
      "outputs": [
        {
          "output_type": "stream",
          "name": "stdout",
          "text": [
            "IP Address          Request Count\n",
            "203.0.113.5         8\n",
            "198.51.100.23       8\n",
            "192.168.1.1         7\n",
            "10.0.0.2            6\n",
            "192.168.1.100       5\n",
            "\n",
            "Most Frequently Accessed Endpoint:\n",
            "/login (Accessed 13 times)\n",
            "\n",
            "No suspicious activity detected.\n"
          ]
        }
      ]
    },
    {
      "cell_type": "code",
      "source": [
        "with open(csv_output_file, 'w', newline='') as csv_file:\n",
        "    writer = csv.writer(csv_file)\n",
        "    writer.writerow([\"Requests per IP\"])\n",
        "    writer.writerow([\"IP Address\", \"Request Count\"])\n",
        "    writer.writerows(sorted_ip_requests)\n",
        "    writer.writerow([])\n",
        "    writer.writerow([\"Most Accessed Endpoint\"])\n",
        "    writer.writerow([\"Endpoint\", \"Access Count\"])\n",
        "    writer.writerow([most_accessed_endpoint[0], most_accessed_endpoint[1]])\n",
        "    writer.writerow([])\n",
        "    writer.writerow([\"Suspicious Activity\"])\n",
        "    writer.writerow([\"IP Address\", \"Failed Login Count\"])\n",
        "    writer.writerows(suspicious_ips)\n",
        "\n",
        "print(f\"\\nResults saved to {csv_output_file }.\")"
      ],
      "metadata": {
        "colab": {
          "base_uri": "https://localhost:8080/"
        },
        "id": "H6OhlWkYoYyd",
        "outputId": "6be0dd01-c384-4f0a-ac21-8b3f22c00472"
      },
      "execution_count": 69,
      "outputs": [
        {
          "output_type": "stream",
          "name": "stdout",
          "text": [
            "\n",
            "Results saved to log_analysis_results.csv.\n"
          ]
        }
      ]
    },
    {
      "cell_type": "code",
      "source": [],
      "metadata": {
        "id": "KEgXVj9vp9nN"
      },
      "execution_count": null,
      "outputs": []
    }
  ]
}